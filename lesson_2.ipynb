{
 "cells": [
  {
   "cell_type": "code",
   "execution_count": 2,
   "metadata": {},
   "outputs": [],
   "source": [
    "import pandas as pd"
   ]
  },
  {
   "cell_type": "code",
   "execution_count": 4,
   "metadata": {},
   "outputs": [],
   "source": [
    "df = pd.read_csv('IHME-GBD_2019_DATA-ff08d9bc-1.csv',delimiter=',',encoding='utf-8')"
   ]
  },
  {
   "cell_type": "code",
   "execution_count": 5,
   "metadata": {},
   "outputs": [
    {
     "data": {
      "text/html": [
       "<div>\n",
       "<style scoped>\n",
       "    .dataframe tbody tr th:only-of-type {\n",
       "        vertical-align: middle;\n",
       "    }\n",
       "\n",
       "    .dataframe tbody tr th {\n",
       "        vertical-align: top;\n",
       "    }\n",
       "\n",
       "    .dataframe thead th {\n",
       "        text-align: right;\n",
       "    }\n",
       "</style>\n",
       "<table border=\"1\" class=\"dataframe\">\n",
       "  <thead>\n",
       "    <tr style=\"text-align: right;\">\n",
       "      <th></th>\n",
       "      <th>measure</th>\n",
       "      <th>location</th>\n",
       "      <th>sex</th>\n",
       "      <th>age</th>\n",
       "      <th>cause</th>\n",
       "      <th>metric</th>\n",
       "      <th>year</th>\n",
       "      <th>val</th>\n",
       "      <th>upper</th>\n",
       "      <th>lower</th>\n",
       "    </tr>\n",
       "  </thead>\n",
       "  <tbody>\n",
       "    <tr>\n",
       "      <th>0</th>\n",
       "      <td>Deaths</td>\n",
       "      <td>Samoa</td>\n",
       "      <td>Male</td>\n",
       "      <td>All Ages</td>\n",
       "      <td>Chronic respiratory diseases</td>\n",
       "      <td>Rate</td>\n",
       "      <td>2000</td>\n",
       "      <td>64.470214</td>\n",
       "      <td>81.808307</td>\n",
       "      <td>53.476793</td>\n",
       "    </tr>\n",
       "    <tr>\n",
       "      <th>1</th>\n",
       "      <td>Deaths</td>\n",
       "      <td>Samoa</td>\n",
       "      <td>Female</td>\n",
       "      <td>All Ages</td>\n",
       "      <td>Chronic respiratory diseases</td>\n",
       "      <td>Rate</td>\n",
       "      <td>2000</td>\n",
       "      <td>55.234399</td>\n",
       "      <td>77.883497</td>\n",
       "      <td>39.978647</td>\n",
       "    </tr>\n",
       "    <tr>\n",
       "      <th>2</th>\n",
       "      <td>Deaths</td>\n",
       "      <td>Samoa</td>\n",
       "      <td>Both</td>\n",
       "      <td>All Ages</td>\n",
       "      <td>Chronic respiratory diseases</td>\n",
       "      <td>Rate</td>\n",
       "      <td>2000</td>\n",
       "      <td>60.039961</td>\n",
       "      <td>76.013089</td>\n",
       "      <td>49.941986</td>\n",
       "    </tr>\n",
       "    <tr>\n",
       "      <th>3</th>\n",
       "      <td>Deaths</td>\n",
       "      <td>Samoa</td>\n",
       "      <td>Male</td>\n",
       "      <td>All Ages</td>\n",
       "      <td>Skin and subcutaneous diseases</td>\n",
       "      <td>Rate</td>\n",
       "      <td>2000</td>\n",
       "      <td>2.246741</td>\n",
       "      <td>3.467454</td>\n",
       "      <td>1.438979</td>\n",
       "    </tr>\n",
       "    <tr>\n",
       "      <th>4</th>\n",
       "      <td>Deaths</td>\n",
       "      <td>Samoa</td>\n",
       "      <td>Female</td>\n",
       "      <td>All Ages</td>\n",
       "      <td>Skin and subcutaneous diseases</td>\n",
       "      <td>Rate</td>\n",
       "      <td>2000</td>\n",
       "      <td>1.368385</td>\n",
       "      <td>1.945448</td>\n",
       "      <td>0.866099</td>\n",
       "    </tr>\n",
       "  </tbody>\n",
       "</table>\n",
       "</div>"
      ],
      "text/plain": [
       "  measure location     sex       age                           cause metric  \\\n",
       "0  Deaths    Samoa    Male  All Ages    Chronic respiratory diseases   Rate   \n",
       "1  Deaths    Samoa  Female  All Ages    Chronic respiratory diseases   Rate   \n",
       "2  Deaths    Samoa    Both  All Ages    Chronic respiratory diseases   Rate   \n",
       "3  Deaths    Samoa    Male  All Ages  Skin and subcutaneous diseases   Rate   \n",
       "4  Deaths    Samoa  Female  All Ages  Skin and subcutaneous diseases   Rate   \n",
       "\n",
       "   year        val      upper      lower  \n",
       "0  2000  64.470214  81.808307  53.476793  \n",
       "1  2000  55.234399  77.883497  39.978647  \n",
       "2  2000  60.039961  76.013089  49.941986  \n",
       "3  2000   2.246741   3.467454   1.438979  \n",
       "4  2000   1.368385   1.945448   0.866099  "
      ]
     },
     "execution_count": 5,
     "metadata": {},
     "output_type": "execute_result"
    }
   ],
   "source": [
    "df.head()"
   ]
  },
  {
   "cell_type": "code",
   "execution_count": 6,
   "metadata": {},
   "outputs": [
    {
     "data": {
      "text/plain": [
       "np.float64(38.800590204586584)"
      ]
     },
     "execution_count": 6,
     "metadata": {},
     "output_type": "execute_result"
    }
   ],
   "source": [
    "df['val'].mean() # средние"
   ]
  },
  {
   "cell_type": "code",
   "execution_count": 7,
   "metadata": {},
   "outputs": [
    {
     "data": {
      "text/plain": [
       "np.float64(2754.2790315673674)"
      ]
     },
     "execution_count": 7,
     "metadata": {},
     "output_type": "execute_result"
    }
   ],
   "source": [
    "df['val'].max()"
   ]
  },
  {
   "cell_type": "code",
   "execution_count": 8,
   "metadata": {},
   "outputs": [
    {
     "data": {
      "text/plain": [
       "np.int64(257040)"
      ]
     },
     "execution_count": 8,
     "metadata": {},
     "output_type": "execute_result"
    }
   ],
   "source": [
    "df['cause'].count() # число записей"
   ]
  },
  {
   "cell_type": "code",
   "execution_count": null,
   "metadata": {},
   "outputs": [],
   "source": [
    "df['cause'].unique() # уникальные значения столбца"
   ]
  }
 ],
 "metadata": {
  "kernelspec": {
   "display_name": ".venv",
   "language": "python",
   "name": "python3"
  },
  "language_info": {
   "codemirror_mode": {
    "name": "ipython",
    "version": 3
   },
   "file_extension": ".py",
   "mimetype": "text/x-python",
   "name": "python",
   "nbconvert_exporter": "python",
   "pygments_lexer": "ipython3",
   "version": "3.13.1"
  }
 },
 "nbformat": 4,
 "nbformat_minor": 2
}
